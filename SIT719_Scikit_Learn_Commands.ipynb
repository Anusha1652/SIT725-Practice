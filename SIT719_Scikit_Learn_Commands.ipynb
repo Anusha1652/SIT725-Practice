{
  "nbformat": 4,
  "nbformat_minor": 0,
  "metadata": {
    "colab": {
      "provenance": [],
      "authorship_tag": "ABX9TyN0v+Iutwy7Htb2WnRSRNwE",
      "include_colab_link": true
    },
    "kernelspec": {
      "name": "python3",
      "display_name": "Python 3"
    },
    "language_info": {
      "name": "python"
    }
  },
  "cells": [
    {
      "cell_type": "markdown",
      "metadata": {
        "id": "view-in-github",
        "colab_type": "text"
      },
      "source": [
        "<a href=\"https://colab.research.google.com/github/Anusha1652/SIT725-Practice/blob/main/SIT719_Scikit_Learn_Commands.ipynb\" target=\"_parent\"><img src=\"https://colab.research.google.com/assets/colab-badge.svg\" alt=\"Open In Colab\"/></a>"
      ]
    },
    {
      "cell_type": "code",
      "execution_count": null,
      "metadata": {
        "id": "8qTxGQ2ZVT8K"
      },
      "outputs": [],
      "source": []
    },
    {
      "cell_type": "markdown",
      "source": [
        "# SIT719 – scikit-learn Machine Learning Commands\n",
        "This notebook contains a collection of basic `scikit-learn` commands used in machine learning, with simple explanations and examples. It is aimed at beginners to help them understand key concepts."
      ],
      "metadata": {
        "id": "hK1ILX5OWyxj"
      }
    },
    {
      "cell_type": "markdown",
      "source": [
        "#train_test_split"
      ],
      "metadata": {
        "id": "iDig3ji2cY3Z"
      }
    },
    {
      "cell_type": "markdown",
      "source": [
        "What it does:\n",
        "Splits your data into training and testing sets. Training data is used to build the model, while testing data is used to evaluate its performance.\n"
      ],
      "metadata": {
        "id": "458kBydlc0GW"
      }
    },
    {
      "cell_type": "code",
      "source": [
        "from sklearn.model_selection import train_test_split\n",
        "\n",
        "# Example\n",
        "X = [[0], [7], [5], [4], [6]]\n",
        "y = [1, 0, 1, 0, 1]\n",
        "X_train, X_test, y_train, y_test = train_test_split(X, y, test_size=0.4)\n",
        "\n",
        "print(\"Training:\", X_train)\n",
        "print(\"Testing:\", X_test)\n"
      ],
      "metadata": {
        "colab": {
          "base_uri": "https://localhost:8080/"
        },
        "id": "DMHBT95-c5yL",
        "outputId": "87871474-d746-4238-97b4-a94690d902a1"
      },
      "execution_count": 6,
      "outputs": [
        {
          "output_type": "stream",
          "name": "stdout",
          "text": [
            "Training: [[5], [0], [7]]\n",
            "Testing: [[6], [4]]\n"
          ]
        }
      ]
    },
    {
      "cell_type": "markdown",
      "source": [
        "#LogisticRegression\n",
        "What it does:\n",
        "A classification algorithm used to predict binary outcomes (0 or 1)."
      ],
      "metadata": {
        "id": "Xf6IWlPDdRTl"
      }
    },
    {
      "cell_type": "code",
      "source": [
        "from sklearn.linear_model import LogisticRegression\n",
        "\n",
        "# Example\n",
        "model = LogisticRegression()\n",
        "X = [[0], [1], [2], [3]]\n",
        "y = [0, 0, 1, 1]\n",
        "model.fit(X, y)\n",
        "print(\"Prediction for 2.5:\", model.predict([[2.5]]))\n"
      ],
      "metadata": {
        "colab": {
          "base_uri": "https://localhost:8080/"
        },
        "id": "3Xxgo3FZcveo",
        "outputId": "3439948f-ae6b-4f21-8866-fa903ad4c0d8"
      },
      "execution_count": 7,
      "outputs": [
        {
          "output_type": "stream",
          "name": "stdout",
          "text": [
            "Prediction for 2.5: [1]\n"
          ]
        }
      ]
    },
    {
      "cell_type": "markdown",
      "source": [
        "#accuracy_score\n",
        "What it does:\n",
        "Evaluates how many predictions were correct (accuracy = correct / total).\n",
        "\n"
      ],
      "metadata": {
        "id": "MAT64L91dndA"
      }
    },
    {
      "cell_type": "code",
      "source": [
        "from sklearn.metrics import accuracy_score\n",
        "\n",
        "# Example\n",
        "y_true = [1, 0, 1, 1]\n",
        "y_pred = [1, 0, 0, 1]\n",
        "print(\"Accuracy:\", accuracy_score(y_true, y_pred))\n"
      ],
      "metadata": {
        "colab": {
          "base_uri": "https://localhost:8080/"
        },
        "id": "vaJ8IiwvcSgI",
        "outputId": "0a9b5c10-6e02-46ae-f8a3-a221d42f4b99"
      },
      "execution_count": 8,
      "outputs": [
        {
          "output_type": "stream",
          "name": "stdout",
          "text": [
            "Accuracy: 0.75\n"
          ]
        }
      ]
    },
    {
      "cell_type": "markdown",
      "source": [],
      "metadata": {
        "id": "-XwzNxbjdmRz"
      }
    },
    {
      "cell_type": "markdown",
      "source": [],
      "metadata": {
        "id": "BhISaOGEdmOk"
      }
    }
  ]
}